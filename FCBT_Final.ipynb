{
  "cells": [
    {
      "cell_type": "markdown",
      "metadata": {
        "id": "view-in-github",
        "colab_type": "text"
      },
      "source": [
        "<a href=\"https://colab.research.google.com/github/valmetisrinivas/Falcon_CB_Therapist/blob/master/FCBT_Final.ipynb\" target=\"_parent\"><img src=\"https://colab.research.google.com/assets/colab-badge.svg\" alt=\"Open In Colab\"/></a>"
      ]
    },
    {
      "cell_type": "code",
      "execution_count": null,
      "metadata": {
        "id": "xsIonWu71Uzx"
      },
      "outputs": [],
      "source": [
        "!pip install torch transformers gradio ai71 openai sentence-transformers gradio"
      ]
    },
    {
      "cell_type": "code",
      "execution_count": null,
      "metadata": {
        "id": "lLA3Mvg24bvE"
      },
      "outputs": [],
      "source": [
        "import torch\n",
        "import numpy as np\n",
        "import io\n",
        "import matplotlib.pyplot as plt\n",
        "import pandas as pd\n",
        "import gradio as gr\n",
        "import os\n",
        "import random\n",
        "from PIL import Image\n",
        "\n",
        "from sentence_transformers import SentenceTransformer\n",
        "from transformers import pipeline\n",
        "from datetime import datetime\n",
        "from PIL import Image\n",
        "from datetime import datetime\n",
        "from openai import OpenAI\n",
        "from ai71 import AI71"
      ]
    },
    {
      "cell_type": "code",
      "execution_count": null,
      "metadata": {
        "id": "MWb829UdoM0e"
      },
      "outputs": [],
      "source": [
        "embed_model = SentenceTransformer('paraphrase-MiniLM-L6-v2')\n",
        "classifier = pipeline(\"zero-shot-classification\", model ='facebook/bart-large-mnli')"
      ]
    },
    {
      "cell_type": "code",
      "source": [
        "with open ('emotion_group_labels.txt') as file:\n",
        "    emotion_group_labels = file.read().splitlines()"
      ],
      "metadata": {
        "id": "UXyHgI9tI1PK"
      },
      "execution_count": null,
      "outputs": []
    },
    {
      "cell_type": "code",
      "execution_count": null,
      "metadata": {
        "id": "3mINgTmTwM42"
      },
      "outputs": [],
      "source": [
        "dials_embeddings = pd.read_pickle('https://huggingface.co/datasets/vsrinivas/CBT_dialogue_embed_ds/resolve/main/kaggle_therapy_embeddings.pkl')\n",
        "dials_embeddings.shape"
      ]
    },
    {
      "cell_type": "code",
      "source": [
        "AI71_API_KEY = os.getenv('AI71_API_KEY')"
      ],
      "metadata": {
        "id": "NhgIFQ-_Ji_s"
      },
      "execution_count": null,
      "outputs": []
    },
    {
      "cell_type": "code",
      "execution_count": null,
      "metadata": {
        "id": "IqMuvFMCmWxM"
      },
      "outputs": [],
      "source": [
        "# Measure cosine similarity between a pair of vectors\n",
        "def cosine_distance(vec1,vec2):\n",
        "  cosine = (np.dot(vec1, vec2)/(np.linalg.norm(vec1)*np.linalg.norm(vec2)))\n",
        "  return cosine"
      ]
    },
    {
      "cell_type": "code",
      "execution_count": null,
      "metadata": {
        "id": "i-JGzWmjIUqC"
      },
      "outputs": [],
      "source": [
        "# Detect emotions from patient dialogues\n",
        "def detect_emotions(text):\n",
        "  emotion = classifier(text, candidate_labels=emotion_group_labels, batch_size=16)\n",
        "  top_5_scores = [i/sum(emotion['scores'][:5]) for i in emotion['scores'][:5]]\n",
        "  top_5_emotions = emotion['labels'][:5]\n",
        "  emotion_set = {l: \"{:.2%}\".format(s) for l, s in zip(top_5_emotions, top_5_scores)}\n",
        "  return emotion_set"
      ]
    },
    {
      "cell_type": "code",
      "source": [
        "# Generate an image of trigger emotions\n",
        "def generate_triggers_img(items):\n",
        "    labels = list(items.keys())\n",
        "    values = [float(v.strip('%')) for v in items.values()]  # Convert to float for plotting\n",
        "\n",
        "    new_items = {k:v for k, v in zip(labels, values)}\n",
        "    new_items = dict(sorted(new_items.items(), key=lambda item: item[1]))\n",
        "    labels = list(new_items.keys())\n",
        "    values = list(new_items.values())\n",
        "\n",
        "    fig, ax = plt.subplots(figsize=(10, 6))\n",
        "    colors = plt.cm.viridis(np.linspace(0, 1, len(labels)))\n",
        "\n",
        "    bars = ax.barh(labels, values, color=colors)\n",
        "\n",
        "    for spine in ax.spines.values():\n",
        "        spine.set_visible(False)\n",
        "\n",
        "    ax.tick_params(axis='y', labelsize=18)\n",
        "    ax.xaxis.set_visible(False)\n",
        "    ax.yaxis.set_ticks_position('none')\n",
        "\n",
        "    for bar in bars:\n",
        "        width = bar.get_width()\n",
        "        ax.text(width, bar.get_y() + bar.get_height()/2, f'{width:.2f}%',\n",
        "                ha='left', va='center', fontweight='bold', fontsize=18)\n",
        "\n",
        "    plt.tight_layout()\n",
        "    plt.savefig('triggeres.png')\n",
        "    triggers_img = Image.open('triggeres.png')\n",
        "    return triggers_img"
      ],
      "metadata": {
        "id": "6gGODwknJX2L"
      },
      "execution_count": null,
      "outputs": []
    },
    {
      "cell_type": "code",
      "source": [
        "# Generate therapist responses and patient triggers\n",
        "def get_doc_response_emotions(user_message, therapy_session_conversation):\n",
        "    global session_conversation\n",
        "\n",
        "    user_messages = []\n",
        "    user_messages.append(user_message)\n",
        "    emotion_set = detect_emotions(user_message)\n",
        "    print(emotion_set)\n",
        "\n",
        "    emotions_msg = generate_triggers_img(emotion_set)\n",
        "    user_embedding = embed_model.encode(user_message, device='cuda' if torch.cuda.is_available() else 'cpu')\n",
        "\n",
        "    similarities =[]\n",
        "    for v in dials_embeddings['embeddings']:\n",
        "      similarities.append(cosine_distance(user_embedding,v))\n",
        "\n",
        "    top_match_index = similarities.index(max(similarities))\n",
        "    # doc_response = dials_embeddings.iloc[top_match_index+1]['Doctor']\n",
        "    doc_response = dials_embeddings.iloc[top_match_index]['Doctor']\n",
        "\n",
        "    therapy_session_conversation.append([\"User: \"+user_message, \"Therapist: \"+doc_response])\n",
        "\n",
        "    session_conversation.extend([\"User: \"+user_message, \"Therapist: \"+doc_response])\n",
        "\n",
        "    print(f\"User's message: {user_message}\")\n",
        "    print(f\"RAG Matching message: {dials_embeddings.iloc[top_match_index]['Patient']}\")\n",
        "    # print(f\"Therapist's response: {dials_embeddings.iloc[top_match_index+1]['Doctor']}\\n\\n\")\n",
        "    print(f\"Therapist's response: {dials_embeddings.iloc[top_match_index]['Doctor']}\\n\\n\")\n",
        "\n",
        "    return '', therapy_session_conversation, emotions_msg"
      ],
      "metadata": {
        "id": "Qsabv1HnJffN"
      },
      "execution_count": null,
      "outputs": []
    },
    {
      "cell_type": "code",
      "execution_count": null,
      "metadata": {
        "id": "IO_5T0Q1nfQo"
      },
      "outputs": [],
      "source": [
        "def get_doc_response_emotions(user_message, therapy_session_conversation):\n",
        "    global session_conversation\n",
        "\n",
        "    user_messages = []\n",
        "    user_messages.append(user_message)\n",
        "    emotion_set = detect_emotions(user_message)\n",
        "    print(emotion_set)\n",
        "\n",
        "    emotions_msg = generate_triggers_img(emotion_set)\n",
        "    user_embedding = embed_model.encode(user_message, device='cuda' if torch.cuda.is_available() else 'cpu')\n",
        "\n",
        "    similarities =[]\n",
        "    for v in dials_embeddings['embeddings']:\n",
        "      similarities.append(cosine_distance(user_embedding,v))\n",
        "\n",
        "    top_match_index = similarities.index(max(similarities))\n",
        "    doc_response = dials_embeddings.iloc[top_match_index+1]['Doctor']\n",
        "    therapy_session_conversation.append([\"User: \"+user_message, \"Therapist: \"+doc_response])\n",
        "\n",
        "    session_conversation.extend([\"User: \"+user_message, \"Therapist: \"+doc_response])\n",
        "\n",
        "    print(f\"User's message: {user_message}\")\n",
        "    print(f\"RAG Matching message: {dials_embeddings.iloc[top_match_index]['Patient']}\")\n",
        "    print(f\"Therapist's response: {dials_embeddings.iloc[top_match_index+1]['Doctor']}\\n\\n\")\n",
        "    return '', therapy_session_conversation, emotions_msg"
      ]
    },
    {
      "cell_type": "code",
      "source": [
        "def summarize_and_recommend(therapy_session_conversation):\n",
        "\n",
        "    session_time = str(datetime.now().strftime(\"%Y-%m-%d %H:%M:%S\"))\n",
        "    session_conversation = [item[0] for item in therapy_session_conversation]\n",
        "    session_conversation = [x for x in session_conversation if x is not None]\n",
        "\n",
        "    session_conversation.insert(0, \"Session_time: \"+session_time)\n",
        "\n",
        "    session_conversation_processed ='\\n'.join(session_conversation)\n",
        "    print(\"session_conversation_processed:\", session_conversation_processed)\n",
        "\n",
        "    full_summary = \"\"\n",
        "    for chunk in AI71(AI71_API_KEY).chat.completions.create(\n",
        "        model=\"tiiuae/falcon-180b-chat\",\n",
        "        messages=[\n",
        "            {\"role\": \"system\", \"content\": \"\"\"You are an Expert Cognitive Behavioural Therapist and Precis writer.\n",
        "            Summarize 'STRICTLY' the below user content <<<session_conversation_processed>>> 'ONLY' into useful, ethical, relevant and realistic phrases with a format\n",
        "          Session Time:\n",
        "          Summary of the patient messages: #in two to four sentences\n",
        "          Summary of therapist messages: #in two to three sentences:\n",
        "          Summary of the whole session: # in two to three sentences. Ensure the entire session summary strictly does not exceed 100 tokens.\"\"\"},\n",
        "            {\"role\": \"user\", \"content\": session_conversation_processed},\n",
        "        ],\n",
        "        stream=True,\n",
        "    ):\n",
        "        if chunk.choices[0].delta.content:\n",
        "            summary = chunk.choices[0].delta.content\n",
        "            full_summary += summary\n",
        "    full_summary = full_summary.replace('User:', '').strip()\n",
        "    print(\"\\n\")\n",
        "    print(\"Full summary:\", full_summary)\n",
        "\n",
        "    full_recommendations = \"\"\n",
        "    for chunk in AI71(AI71_API_KEY).chat.completions.create(\n",
        "        model=\"tiiuae/falcon-180b-chat\",\n",
        "        messages=[\n",
        "            {\"role\": \"system\", \"content\": \"\"\"You are an expert Cognitive Behavioural Therapist.\n",
        "            Based on 'STRICTLY' the full summary <<<full_summary>>> 'ONLY' provide clinically valid, useful, appropriate action plan for the Patient as a bullted list.\n",
        "            The list shall contain both medical and non medical prescriptions, dos and donts. The format of response shall be in passive voice with proper tense.\n",
        "          - The patient is referred to........ #in one sentence\n",
        "          - The patient is advised to ........ #in one sentence\n",
        "          - The patient is refrained from........ #in one sentence\n",
        "          - It is suggested  that tha patient ........ #in one sentence\n",
        "          - Scheduled a follow-up session with the patient........#in one sentence\n",
        "            *Ensure the list contains NOT MORE THAN 7 points\"\"\"},\n",
        "            {\"role\": \"user\", \"content\": full_summary},\n",
        "        ],\n",
        "        stream=True,\n",
        "    ):\n",
        "        if chunk.choices[0].delta.content:\n",
        "            rec = chunk.choices[0].delta.content\n",
        "            full_recommendations += rec\n",
        "    full_recommendations = full_recommendations.replace('User:', '').strip()\n",
        "    print(\"\\n\")\n",
        "    print(\"Full recommendations:\", full_recommendations)\n",
        "    chatbox=[]\n",
        "    return full_summary, full_recommendations, chatbox"
      ],
      "metadata": {
        "id": "2wbX5oP_JvY7"
      },
      "execution_count": null,
      "outputs": []
    },
    {
      "cell_type": "code",
      "execution_count": null,
      "metadata": {
        "id": "pXx5NakI0rJ2"
      },
      "outputs": [],
      "source": [
        "with gr.Blocks() as demo:\n",
        "    gr.Markdown(\"\"\"# Falcon Cognitive Behavioural Therapy Assistant\n",
        "    ## - Your Personal AI Therapist. Start chatting... Once you finish chatting, click \"Generate Session Notes & Recommendations\" button and wait for few seconds for them to appear\"\"\")\n",
        "\n",
        "    therapy_session_conversation = gr.State([])\n",
        "\n",
        "    img_paths = ['2.jpg','3.jpeg','4.jpeg','5.jpeg','6.jpeg']\n",
        "    img_path = random.choice(img_paths)\n",
        "    img_1 = Image.open(img_path)\n",
        "    img_path = '7.jpg'\n",
        "    img_2 = Image.open(img_path)\n",
        "\n",
        "    with gr.Row():\n",
        "\n",
        "        with gr.Column(scale=1):\n",
        "            image = gr.Image(type='pil', label ='Your Personal Therapy Assistant', value=img_1, interactive=False)\n",
        "            emotions = gr.Image(value=img_2, label='Top 5 Emotion Triggers')\n",
        "            summary_notes = gr.Textbox(label=\"Summary Notes of the Session\", visible=False)\n",
        "\n",
        "        with gr.Column(scale=2):\n",
        "            chatbox = gr.Chatbot(label=\"Therapy Session Conversation\",value =[[None, 'Therapist: Hello, What can I do for you?']], height=300)\n",
        "            user_input = gr.Textbox(placeholder=\"Enter your message here...\", label=\"User\")\n",
        "            submit_button = gr.Button(\"Submit\")\n",
        "            submit_button.click(get_doc_response_emotions, [user_input, chatbox], [user_input, chatbox, emotions])\n",
        "            user_input.submit(get_doc_response_emotions, [user_input, chatbox], [user_input, chatbox, emotions])\n",
        "            recommendations = gr.Textbox(label=\"Recommended Actions\", visible = False)\n",
        "\n",
        "            def summarize_and_recommend_process(tcs):\n",
        "              sn, r, cb = summarize_and_recommend(tcs)\n",
        "              return gr.update(visible=True, value=sn), gr.update(visible=True, value=r), gr.update(visible=True, value=cb)\n",
        "\n",
        "    process_button = gr.Button(\"Generate Session Notes & Recommendations\")\n",
        "    clear = gr.ClearButton(components=[user_input, chatbox, emotions, summary_notes, recommendations], value=\"Clear console\")\n",
        "    process_button.click(summarize_and_recommend_process, inputs=[chatbox], outputs=[summary_notes, recommendations, chatbox])\n",
        "\n",
        "\n",
        "demo.launch(debug=True, share=True)\n"
      ]
    }
  ],
  "metadata": {
    "accelerator": "GPU",
    "colab": {
      "gpuType": "T4",
      "provenance": [],
      "authorship_tag": "ABX9TyNx9kNe4LfjlxjQwa/uc5ye",
      "include_colab_link": true
    },
    "kernelspec": {
      "display_name": "Python 3",
      "name": "python3"
    },
    "language_info": {
      "name": "python"
    }
  },
  "nbformat": 4,
  "nbformat_minor": 0
}